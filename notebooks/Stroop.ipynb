{
 "cells": [
  {
   "attachments": {},
   "cell_type": "markdown",
   "metadata": {},
   "source": [
    "# Single-Task CogPonder: Stroop\n",
    "\n",
    "This notebook implements a basic single-task CogPonder agents that learns Stroop task by imitating human participants."
   ]
  },
  {
   "cell_type": "code",
   "execution_count": null,
   "metadata": {
    "notebookRunGroups": {
     "groupValue": "1"
    },
    "tags": []
   },
   "outputs": [],
   "source": [
    "%reload_ext autoreload\n",
    "%autoreload 3\n",
    "\n",
    "import seaborn as sns\n",
    "import matplotlib.pyplot as plt\n",
    "import numpy as np\n",
    "from IPython.display import display, clear_output\n",
    "\n",
    "import torch\n",
    "import pytorch_lightning as pl\n",
    "import pandas as pd\n",
    "from pytorch_lightning.callbacks import EarlyStopping\n",
    "from src.cogponder import CogPonderModel\n",
    "from src.cogponder.data import StroopSRODataset, CogPonderDataModule\n",
    "from pathlib import Path"
   ]
  },
  {
   "cell_type": "code",
   "execution_count": null,
   "metadata": {
    "notebookRunGroups": {
     "groupValue": "1"
    },
    "tags": [
     "parameters"
    ]
   },
   "outputs": [],
   "source": [
    "# Parameters\n",
    "\n",
    "# number of maximum epochs to train (early stopping will be applied)\n",
    "# early stopping patience is 10% of max_epochs (min 10 epochs)\n",
    "max_epochs = 3000\n",
    "batch_size = 96 * 5\n",
    "step_duration = 10\n",
    "n_subjects = 5"
   ]
  },
  {
   "cell_type": "code",
   "execution_count": null,
   "metadata": {},
   "outputs": [],
   "source": [
    "# Data\n",
    "\n",
    "print(f'Loading Stroop dataset... ', end='')\n",
    "\n",
    "dataset = StroopSRODataset(n_subjects=n_subjects,\n",
    "                           step_duration=step_duration,\n",
    "                           shuffle_subjects=False,\n",
    "                           non_decision_time='auto')\n",
    "\n",
    "datamodule = CogPonderDataModule(dataset, batch_size=batch_size, num_workers=8)\n",
    "datamodule.prepare_data()\n",
    "\n",
    "# determine some parameters from data\n",
    "n_subjects = datamodule.dataset[:][0].unique().size(0)\n",
    "n_contexts = datamodule.dataset[:][2].unique().size(0)\n",
    "n_features = datamodule.dataset[:][3].size(-1)\n",
    "max_response_step = datamodule.dataset[:][5].max().int().item() + 1\n",
    "n_outputs = datamodule.dataset[:][6].unique().shape[0]\n",
    "\n",
    "configs = {\n",
    "    'inputs_dim': n_features,\n",
    "    'outputs_dim': n_outputs,\n",
    "    'embeddings_dim': 4,\n",
    "    'time_loss_beta': 1.,\n",
    "    'learning_rate': 1e-3,\n",
    "    'max_response_step': max_response_step,\n",
    "    'n_contexts': n_contexts,\n",
    "    'n_subjects': n_subjects,\n",
    "    'subject_embeddings_dim': 4,\n",
    "    'task': 'stroop',\n",
    "    'operator_type': 'spatiotemporal'\n",
    "}\n",
    "\n",
    "print('Done!')"
   ]
  },
  {
   "cell_type": "code",
   "execution_count": null,
   "metadata": {
    "notebookRunGroups": {
     "groupValue": "1"
    }
   },
   "outputs": [],
   "source": [
    "# Experiment\n",
    "\n",
    "model = CogPonderModel(**configs)\n",
    "\n",
    "# model = torch.compile(model)\n",
    "\n",
    "# Trainer\n",
    "trainer = pl.Trainer(\n",
    "    max_epochs=max_epochs,\n",
    "    min_epochs=200,\n",
    "    accelerator='auto',\n",
    "    log_every_n_steps=1,\n",
    "    # overfit_batches=True,\n",
    "    # accumulate_grad_batches=2,\n",
    "    callbacks=[\n",
    "        # EarlyStopping(monitor='val/total_loss', mode='min'),\n",
    "    ])\n",
    "\n",
    "# Fit and evaluate the model\n",
    "trainer.fit(model,\n",
    "            ckpt_path='models/checkpoints/stroop/cogponder_5subjects_2554epochs.ckpt',\n",
    "            datamodule=datamodule)\n",
    "\n",
    "# save checkpoint\n",
    "ckpt_path = f'models/checkpoints/stroop/cogponder_{n_subjects}subjects_{trainer.current_epoch}epochs.ckpt'\n",
    "trainer.save_checkpoint(ckpt_path)\n",
    "\n",
    "clear_output()\n",
    "\n",
    "print('Saved checkpoint to:', ckpt_path)"
   ]
  }
 ],
 "metadata": {
  "kernelspec": {
   "display_name": "Python 3",
   "language": "python",
   "name": "python3"
  },
  "language_info": {
   "codemirror_mode": {
    "name": "ipython",
    "version": 3
   },
   "file_extension": ".py",
   "mimetype": "text/x-python",
   "name": "python",
   "nbconvert_exporter": "python",
   "pygments_lexer": "ipython3",
   "version": "3.11.4"
  },
  "orig_nbformat": 4,
  "vscode": {
   "interpreter": {
    "hash": "de6d99ee160217cabdbdc9334fcf26c57070993174a3cfee67906e3b48dd785a"
   }
  }
 },
 "nbformat": 4,
 "nbformat_minor": 2
}
