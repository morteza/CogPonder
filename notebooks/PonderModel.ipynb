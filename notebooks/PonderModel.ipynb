{
 "cells": [
  {
   "cell_type": "markdown",
   "metadata": {},
   "source": [
    "# PonderICOM: Joint Modeling of Accuracy and Speed in Cognitive Tasks\n",
    "## Intro\n",
    "\n",
    "In the context of behavioral data, we are interested in simultaneously modeling speed and accuracy. Yet, most advanced techniques in machine learning cannot capture such a duality of decision making data.\n",
    "\n",
    "\n",
    "Building on [PonderNet](https://arxiv.org/abs/2107.05407) and [Variable Rate Coding](https://doi.org/10.32470/CCN.2019.1397-0), this notebook implements a neural model that captures speed and accuracy of human-like responses.\n",
    "\n",
    "Given stimulus symbols as inputs, the model produces two outputs:\n",
    "\n",
    "- Response symbol, which, in comparison with the input stimuli, can be used to measure accuracy).\n",
    "- Halting probability ($\\lambda_n$).\n",
    "\n",
    "Under the hood, the model iterates over a ICOM-like component to reach a halting point in time. Unlike DDM and ICOM models, all the parameters and outcomes of the current model *seem* cognitively interpretable.\n",
    "\n",
    "### Additional resources\n",
    "\n",
    "- [ICOM network model](https://drive.google.com/file/d/16eiUUwKGWfh9pu9VUxzlx046hQNHV0Qe/view?usp=sharinghttps://drive.google.com/file/d/16eiUUwKGWfh9pu9VUxzlx046hQNHV0Qe/view?usp=sharing)\n"
   ]
  },
  {
   "cell_type": "markdown",
   "metadata": {},
   "source": [
    "## Problem setting\n",
    "\n",
    "### Model\n",
    "Given input and output data, we want to learn a supervised model of the function $X \\to y$ as follows:\n",
    "\n",
    "$\n",
    "f: X,h_n \\mapsto \\tilde{y},h_{n+1}, \\lambda_n\n",
    "$\n",
    "\n",
    "where $X$ and $y$ denote stimulus and response symbols, $\\lambda_n$ denotes halting probability at time $n$, and $h_{n}$ is the latent state of the model. The learninig continious up to the time point $N$.\n",
    "\n",
    "For the brevity and compatibility, both data are one-hot encoded.\n",
    "\n",
    "\n",
    "### Input\n",
    "\n",
    "One-hot encoded symbols.\n",
    "\n",
    "### Output\n",
    "\n",
    "One-hot encoded symbols.\n",
    "\n",
    "### Criterion\n",
    "\n",
    "L = L_cross_entropy + L_halting"
   ]
  },
  {
   "cell_type": "code",
   "execution_count": 2,
   "metadata": {},
   "outputs": [
    {
     "name": "stderr",
     "output_type": "stream",
     "text": [
      "/usr/local/Caskroom/miniforge/base/envs/CogPonder/lib/python3.10/site-packages/tqdm/auto.py:22: TqdmWarning: IProgress not found. Please update jupyter and ipywidgets. See https://ipywidgets.readthedocs.io/en/stable/user_install.html\n",
      "  from .autonotebook import tqdm as notebook_tqdm\n"
     ]
    }
   ],
   "source": [
    "# Setup and imports\n",
    "import torch\n",
    "from torch import nn\n",
    "import torch.nn.functional as F\n",
    "from torch.utils.data import TensorDataset, DataLoader, random_split\n",
    "from torch.utils.tensorboard import SummaryWriter\n",
    "\n",
    "from tqdm import tqdm\n",
    "\n",
    "from sklearn.metrics import accuracy_score\n",
    "\n",
    "import numpy as np\n",
    "from scipy import stats\n",
    "import pandas as pd\n",
    "\n",
    "import matplotlib.pyplot as plt\n",
    "import seaborn as sns; sns.set()\n",
    "\n",
    "# import tensorflow as tf\n",
    "# import tensorboard as tb\n",
    "# tf.io.gfile = tb.compat.tensorflow_stub.io.gfile #FIX storing embeddings using tensorboard"
   ]
  },
  {
   "cell_type": "code",
   "execution_count": 3,
   "metadata": {},
   "outputs": [],
   "source": [
    "# produce a train of spikes and store timestamps of each spike in `spike_timestamps`.\n",
    "\n",
    "signal_rate = 2\n",
    "noise_rate = 1\n",
    "rate = signal_rate + noise_rate\n",
    "max_duration_in_sec = 10.\n",
    "resolution_in_sec = .1\n",
    "\n",
    "n_total_timesteps = int(max_duration_in_sec / resolution_in_sec)\n",
    "n_spikes = np.random.poisson(rate * max_duration_in_sec)\n",
    "\n",
    "# method 1: shuffle timesteps\n",
    "spike_timesteps = np.sort(np.random.choice(n_total_timesteps, size=n_spikes, replace=False))\n",
    "\n",
    "# method 2: exponential isi -> timestamps\n",
    "# isi = np.random.exponential(1 / rate, n_spikes)\n",
    "# spike_timestamps = np.cumsum(isi)\n",
    "\n",
    "# method 3: homogenous spikes -> timestamps\n",
    "# spike_timestamps = stats.uniform.rvs(loc=0, scale=max_duration_in_sec, size=n_spikes)"
   ]
  },
  {
   "cell_type": "markdown",
   "metadata": {},
   "source": [
    "## Mock data"
   ]
  },
  {
   "cell_type": "code",
   "execution_count": 4,
   "metadata": {},
   "outputs": [],
   "source": [
    "\n",
    "\n",
    "def generate_mock_data(n_subjects, n_trials, n_stimuli):\n",
    "  \"\"\"[summary]\n",
    "\n",
    "  # TODO required data columns: subject_index, trial_index, stimulus_index, accuracy, response_time\n",
    "\n",
    "  Args:\n",
    "      n_subjects (int): [description]\n",
    "      n_trials (int): [description]\n",
    "      n_stimuli (int): [description]\n",
    "\n",
    "  Returns:\n",
    "      (X, accuracies, response_times): A tuple containing generated mock X, accuracies, and response_times (in sec).\n",
    "  \"\"\"\n",
    "  # stimuli\n",
    "  X = np.random.randint(low=1, high=n_stimuli+1, size=(n_subjects, n_trials))\n",
    "\n",
    "  # response accuracy\n",
    "  subject_accuracies = np.random.uniform(low=0.2, high=1.0, size=n_subjects)\n",
    "  subject_accuracies = np.round(subject_accuracies * n_trials) / n_trials\n",
    "  accuracies = np.empty(shape=(n_subjects, n_trials))\n",
    "  for subj in range(n_subjects):\n",
    "    accuracies[subj,:] = np.random.choice(\n",
    "      [0,1],\n",
    "      p=[1-subject_accuracies[subj],subject_accuracies[subj]],\n",
    "      size=n_trials)\n",
    "\n",
    "  # generate output w.r.t the accuracy (and fill incorrect trials with invalid response)\n",
    "  y = np.where(accuracies == 1., X, X+1 % (n_stimuli+1))\n",
    "\n",
    "  # response time\n",
    "  response_times = np.random.exponential(.5, size=accuracies.shape)\n",
    "\n",
    "  if n_subjects == 1:\n",
    "    X = X.squeeze()\n",
    "    y = y.squeeze()\n",
    "    accuracies = accuracies.squeeze()\n",
    "    response_times = response_times.squeeze()\n",
    "\n",
    "  return X, y, accuracies, response_times"
   ]
  },
  {
   "cell_type": "code",
   "execution_count": 13,
   "metadata": {},
   "outputs": [],
   "source": [
    "# mock data parameters\n",
    "n_subjects = 1\n",
    "n_trials = 20\n",
    "n_stimuli = 6\n",
    "\n",
    "X, y, accuracies, response_times = generate_mock_data(n_subjects, n_trials, n_stimuli)"
   ]
  },
  {
   "cell_type": "code",
   "execution_count": 88,
   "metadata": {},
   "outputs": [],
   "source": [
    "class ICOM(nn.Module):\n",
    "    def __init__(self, n_inputs, n_channels, n_outputs):\n",
    "      super(ICOM, self).__init__()\n",
    "\n",
    "      self.n_inputs = n_inputs\n",
    "      # encode: x -> sent_msg\n",
    "      self.encode = nn.Linear(n_inputs, n_channels, bias=False)\n",
    "\n",
    "      # transmit: sent_msg -> rcvd_msg\n",
    "      self.transmit = nn.RNN(n_channels, n_channels, batch_first=True)\n",
    "\n",
    "      # decode: rcvd_msg -> action\n",
    "      self.decode = nn.Sequential(\n",
    "        nn.Linear(n_channels,n_outputs, bias=False),\n",
    "        nn.Softmax(dim=2)\n",
    "      )\n",
    "\n",
    "    def forward(self, x, h):\n",
    "\n",
    "      msg = F.one_hot(x, num_classes=self.n_inputs).type(torch.float)\n",
    "      msg = self.encode(msg)\n",
    "      msg, h = self.transmit(msg, h)\n",
    "      y = self.decode(msg)\n",
    "\n",
    "      return y, h\n",
    "\n",
    "\n",
    "# DEBUG ICOM\n",
    "X_batch = torch.tensor(X).unsqueeze(0)\n",
    "h0 = torch.zeros(1, X_batch.shape[0], n_stimuli)\n",
    "model = ICOM(n_stimuli+1, n_stimuli, n_stimuli+1)\n",
    "y, h = model(X_batch, h0)"
   ]
  },
  {
   "cell_type": "code",
   "execution_count": 137,
   "metadata": {},
   "outputs": [],
   "source": [
    "class PonderNet(nn.Module):\n",
    "  def __init__(self, n_inputs, n_embeddings, n_outputs, max_steps):\n",
    "    super(PonderNet, self).__init__()\n",
    "\n",
    "    self.n_embeddings = n_embeddings\n",
    "    self.n_outputs = n_outputs\n",
    "    self.max_steps = max_steps\n",
    "\n",
    "    self.output_node = ICOM(n_inputs, n_embeddings, n_outputs)\n",
    "\n",
    "    # the halting node predicts the probability of halting conditional on not having halted before. It exactly computes the overall probability of halting at each step as a geometric distribution.\n",
    "    self.halt_node = nn.Sequential(\n",
    "      nn.Linear(n_embeddings, 1),\n",
    "      nn.Sigmoid()\n",
    "    )\n",
    "\n",
    "    # loss:  we don’t regularize PonderNet to explicitly minimize the number of computing steps, but incentivize exploration instead. The pressure of using computation efficiently happens naturally as a form of Occam’s razor.\n",
    "\n",
    "  def step(self, x, h, n):\n",
    "    \"\"\"A single pondering step.\n",
    "\n",
    "    Args:\n",
    "    -------\n",
    "    x: current input of shape (batch_size, n_inputs)\n",
    "    h: previous hidden state of shape (batch_size, n_embeddings, n_xxx)\n",
    "\n",
    "    Returns\n",
    "    -------\n",
    "    lambda_n : float\n",
    "        probability of the \"continue->halt\" transition\n",
    "    \"\"\"\n",
    "\n",
    "    batch_size = x.shape[0]\n",
    "\n",
    "    y_n, h = self.output_node(x, h)\n",
    "\n",
    "    if n == self.max_steps:\n",
    "      lambda_n = torch.ones((batch_size, 1, 1,))\n",
    "    else:\n",
    "      lambda_n = self.halt_node(h)\n",
    "    \n",
    "    return y_n, h, lambda_n\n",
    "\n",
    "\n",
    "  def forward(self, x):\n",
    "\n",
    "    batch_size = x.shape[0]\n",
    "\n",
    "    h = torch.zeros((1, batch_size, self.n_embeddings))\n",
    "    ys = []\n",
    "    probs = []\n",
    "    lambdas = []\n",
    "\n",
    "    halt_step = h.new_zeros((batch_size,), dtype=torch.long)  # stopping step\n",
    "\n",
    "    for n in range(1, self.max_steps + 1):\n",
    "\n",
    "      y_n, h, lambda_n = self.step(x, h, n)\n",
    "\n",
    "      if n == self.max_steps:\n",
    "        halt_step = torch.empty((batch_size,), dtype=torch.long).fill_(n)\n",
    "      else:\n",
    "        _halt_step_dist = torch.distributions.Geometric(lambda_n)\n",
    "        halt_step = torch.maximum(_halt_step_dist.sample(), halt_step)\n",
    "\n",
    "      ys.append(y_n)\n",
    "      lambdas.append(lambda_n)\n",
    "\n",
    "      if (halt_step <= n).all():\n",
    "        break\n",
    "\n",
    "    # TODO\n",
    "    y_pred = torch.zeros((batch_size, self.n_outputs))\n",
    "    return torch.stack(ys), torch.stack(lambdas), y_pred, probs\n",
    "\n",
    "\n",
    "# DEBUG\n",
    "model = PonderNet(n_stimuli+1, n_stimuli, n_stimuli+1, 100)\n",
    "ys, lambdas, y_pred, probs = model(X_batch)"
   ]
  },
  {
   "cell_type": "code",
   "execution_count": 48,
   "metadata": {},
   "outputs": [
    {
     "name": "stderr",
     "output_type": "stream",
     "text": [
      "Epochs:   0%|          | 0/100 [00:00<?, ?it/s]"
     ]
    },
    {
     "name": "stdout",
     "output_type": "stream",
     "text": [
      "tensor([1])\n"
     ]
    },
    {
     "name": "stderr",
     "output_type": "stream",
     "text": [
      "\n"
     ]
    },
    {
     "ename": "RuntimeError",
     "evalue": "Trying to backward through the graph a second time (or directly access saved tensors after they have already been freed). Saved intermediate values of the graph are freed when you call .backward() or autograd.grad(). Specify retain_graph=True if you need to backward through the graph a second time or if you need to access saved tensors after calling backward.",
     "output_type": "error",
     "traceback": [
      "\u001b[0;31m---------------------------------------------------------------------------\u001b[0m",
      "\u001b[0;31mRuntimeError\u001b[0m                              Traceback (most recent call last)",
      "\u001b[1;32m/Users/morteza/workspace/CogPonder/notebooks/PonderModel.ipynb Cell 10\u001b[0m in \u001b[0;36m<cell line: 20>\u001b[0;34m()\u001b[0m\n\u001b[1;32m     <a href='vscode-notebook-cell:/Users/morteza/workspace/CogPonder/notebooks/PonderModel.ipynb#X12sZmlsZQ%3D%3D?line=31'>32</a>\u001b[0m loss \u001b[39m=\u001b[39m criterion(y_pred\u001b[39m.\u001b[39munsqueeze(\u001b[39m0\u001b[39m), y_batch)\n\u001b[1;32m     <a href='vscode-notebook-cell:/Users/morteza/workspace/CogPonder/notebooks/PonderModel.ipynb#X12sZmlsZQ%3D%3D?line=33'>34</a>\u001b[0m logs\u001b[39m.\u001b[39madd_scalar(\u001b[39m'\u001b[39m\u001b[39mloss/train\u001b[39m\u001b[39m'\u001b[39m, loss, epoch)\n\u001b[0;32m---> <a href='vscode-notebook-cell:/Users/morteza/workspace/CogPonder/notebooks/PonderModel.ipynb#X12sZmlsZQ%3D%3D?line=35'>36</a>\u001b[0m loss\u001b[39m.\u001b[39;49mbackward()\n\u001b[1;32m     <a href='vscode-notebook-cell:/Users/morteza/workspace/CogPonder/notebooks/PonderModel.ipynb#X12sZmlsZQ%3D%3D?line=36'>37</a>\u001b[0m optimizer\u001b[39m.\u001b[39mstep()\n",
      "File \u001b[0;32m/usr/local/Caskroom/miniforge/base/envs/CogPonder/lib/python3.10/site-packages/torch/_tensor.py:396\u001b[0m, in \u001b[0;36mTensor.backward\u001b[0;34m(self, gradient, retain_graph, create_graph, inputs)\u001b[0m\n\u001b[1;32m    387\u001b[0m \u001b[39mif\u001b[39;00m has_torch_function_unary(\u001b[39mself\u001b[39m):\n\u001b[1;32m    388\u001b[0m     \u001b[39mreturn\u001b[39;00m handle_torch_function(\n\u001b[1;32m    389\u001b[0m         Tensor\u001b[39m.\u001b[39mbackward,\n\u001b[1;32m    390\u001b[0m         (\u001b[39mself\u001b[39m,),\n\u001b[0;32m   (...)\u001b[0m\n\u001b[1;32m    394\u001b[0m         create_graph\u001b[39m=\u001b[39mcreate_graph,\n\u001b[1;32m    395\u001b[0m         inputs\u001b[39m=\u001b[39minputs)\n\u001b[0;32m--> 396\u001b[0m torch\u001b[39m.\u001b[39;49mautograd\u001b[39m.\u001b[39;49mbackward(\u001b[39mself\u001b[39;49m, gradient, retain_graph, create_graph, inputs\u001b[39m=\u001b[39;49minputs)\n",
      "File \u001b[0;32m/usr/local/Caskroom/miniforge/base/envs/CogPonder/lib/python3.10/site-packages/torch/autograd/__init__.py:173\u001b[0m, in \u001b[0;36mbackward\u001b[0;34m(tensors, grad_tensors, retain_graph, create_graph, grad_variables, inputs)\u001b[0m\n\u001b[1;32m    168\u001b[0m     retain_graph \u001b[39m=\u001b[39m create_graph\n\u001b[1;32m    170\u001b[0m \u001b[39m# The reason we repeat same the comment below is that\u001b[39;00m\n\u001b[1;32m    171\u001b[0m \u001b[39m# some Python versions print out the first line of a multi-line function\u001b[39;00m\n\u001b[1;32m    172\u001b[0m \u001b[39m# calls in the traceback and some print out the last line\u001b[39;00m\n\u001b[0;32m--> 173\u001b[0m Variable\u001b[39m.\u001b[39;49m_execution_engine\u001b[39m.\u001b[39;49mrun_backward(  \u001b[39m# Calls into the C++ engine to run the backward pass\u001b[39;49;00m\n\u001b[1;32m    174\u001b[0m     tensors, grad_tensors_, retain_graph, create_graph, inputs,\n\u001b[1;32m    175\u001b[0m     allow_unreachable\u001b[39m=\u001b[39;49m\u001b[39mTrue\u001b[39;49;00m, accumulate_grad\u001b[39m=\u001b[39;49m\u001b[39mTrue\u001b[39;49;00m)\n",
      "\u001b[0;31mRuntimeError\u001b[0m: Trying to backward through the graph a second time (or directly access saved tensors after they have already been freed). Saved intermediate values of the graph are freed when you call .backward() or autograd.grad(). Specify retain_graph=True if you need to backward through the graph a second time or if you need to access saved tensors after calling backward."
     ]
    }
   ],
   "source": [
    "\n",
    "# split params\n",
    "train_size = int(n_trials * .8)\n",
    "test_size = n_trials - train_size\n",
    "\n",
    "# training parrms\n",
    "n_epoches = 100\n",
    "\n",
    "logs = SummaryWriter()\n",
    "\n",
    "model = PonderNet(n_stimuli+1, n_stimuli, n_stimuli+1, 100)\n",
    "optimizer = torch.optim.Adam(model.parameters(), lr=0.001)\n",
    "criterion = torch.nn.CrossEntropyLoss()\n",
    "\n",
    "dataset = TensorDataset(torch.tensor(X), torch.tensor(y)-1)\n",
    "train_subset, test_subset = random_split(dataset, lengths=(train_size,test_size))\n",
    "\n",
    "X_train, y_train = dataset[train_subset.indices]\n",
    "X_test, y_test = dataset[test_subset.indices]\n",
    "\n",
    "for epoch in tqdm(range(n_epoches), desc='Epochs'):\n",
    "\n",
    "  for X_batch, y_batch in DataLoader(train_subset, batch_size=1):\n",
    "    model.train()\n",
    "    optimizer.zero_grad()\n",
    "    ys, ps, y_pred, p_m = model(X_batch)\n",
    "\n",
    "  model_accuracy = accuracy_score(y_batch, torch.argmax(y_pred.detach(),dim=0).unsqueeze(0))\n",
    "  logs.add_scalar('accuracy/train', model_accuracy, epoch)  \n",
    "\n",
    "  loss = criterion(y_pred.unsqueeze(0), y_batch)\n",
    "  \n",
    "  logs.add_scalar('loss/train', loss, epoch)\n",
    "\n",
    "  loss.backward()\n",
    "  optimizer.step()\n",
    "\n",
    "  # model.eval()\n",
    "  # with torch.no_grad():\n",
    "  #   _, _, y_pred, _ = model(X_test)\n",
    "  #   loss = criterion(y_test, y_pred)\n",
    "  #   logs.add_scalar('loss/test', loss.detach(), epoch)\n",
    "\n",
    "# tensorboard --logdir=runs"
   ]
  },
  {
   "cell_type": "code",
   "execution_count": 30,
   "metadata": {},
   "outputs": [
    {
     "ename": "RuntimeError",
     "evalue": "For unbatched 2-D input, hx should also be 2-D but got 3-D tensor",
     "output_type": "error",
     "traceback": [
      "\u001b[0;31m---------------------------------------------------------------------------\u001b[0m",
      "\u001b[0;31mRuntimeError\u001b[0m                              Traceback (most recent call last)",
      "\u001b[1;32m/Users/morteza/workspace/CogPonder/notebooks/PonderModel.ipynb Cell 12\u001b[0m in \u001b[0;36m<cell line: 2>\u001b[0;34m()\u001b[0m\n\u001b[1;32m      <a href='vscode-notebook-cell:/Users/morteza/workspace/CogPonder/notebooks/PonderModel.ipynb#X13sZmlsZQ%3D%3D?line=0'>1</a>\u001b[0m model\u001b[39m.\u001b[39meval()\n\u001b[0;32m----> <a href='vscode-notebook-cell:/Users/morteza/workspace/CogPonder/notebooks/PonderModel.ipynb#X13sZmlsZQ%3D%3D?line=1'>2</a>\u001b[0m _, _, y_pred, _ \u001b[39m=\u001b[39m model(dataset\u001b[39m.\u001b[39;49mtensors[\u001b[39m0\u001b[39;49m]\u001b[39m.\u001b[39;49munsqueeze(\u001b[39m0\u001b[39;49m))\n\u001b[1;32m      <a href='vscode-notebook-cell:/Users/morteza/workspace/CogPonder/notebooks/PonderModel.ipynb#X13sZmlsZQ%3D%3D?line=2'>3</a>\u001b[0m \u001b[39m# print(x.shape, y_m.shape, y_n.shape, is_halted.shape, p_m.shape, p_n.shape)\u001b[39;00m\n\u001b[1;32m      <a href='vscode-notebook-cell:/Users/morteza/workspace/CogPonder/notebooks/PonderModel.ipynb#X13sZmlsZQ%3D%3D?line=3'>4</a>\u001b[0m y_pred \u001b[39m=\u001b[39m np\u001b[39m.\u001b[39margmax(y_pred\u001b[39m.\u001b[39mdetach()\u001b[39m.\u001b[39mnumpy(), axis\u001b[39m=\u001b[39m\u001b[39m1\u001b[39m) \u001b[39m+\u001b[39m \u001b[39m1\u001b[39m\n",
      "File \u001b[0;32m/usr/local/Caskroom/miniforge/base/envs/CogPonder/lib/python3.10/site-packages/torch/nn/modules/module.py:1130\u001b[0m, in \u001b[0;36mModule._call_impl\u001b[0;34m(self, *input, **kwargs)\u001b[0m\n\u001b[1;32m   1126\u001b[0m \u001b[39m# If we don't have any hooks, we want to skip the rest of the logic in\u001b[39;00m\n\u001b[1;32m   1127\u001b[0m \u001b[39m# this function, and just call forward.\u001b[39;00m\n\u001b[1;32m   1128\u001b[0m \u001b[39mif\u001b[39;00m \u001b[39mnot\u001b[39;00m (\u001b[39mself\u001b[39m\u001b[39m.\u001b[39m_backward_hooks \u001b[39mor\u001b[39;00m \u001b[39mself\u001b[39m\u001b[39m.\u001b[39m_forward_hooks \u001b[39mor\u001b[39;00m \u001b[39mself\u001b[39m\u001b[39m.\u001b[39m_forward_pre_hooks \u001b[39mor\u001b[39;00m _global_backward_hooks\n\u001b[1;32m   1129\u001b[0m         \u001b[39mor\u001b[39;00m _global_forward_hooks \u001b[39mor\u001b[39;00m _global_forward_pre_hooks):\n\u001b[0;32m-> 1130\u001b[0m     \u001b[39mreturn\u001b[39;00m forward_call(\u001b[39m*\u001b[39;49m\u001b[39minput\u001b[39;49m, \u001b[39m*\u001b[39;49m\u001b[39m*\u001b[39;49mkwargs)\n\u001b[1;32m   1131\u001b[0m \u001b[39m# Do not call functions when jit is used\u001b[39;00m\n\u001b[1;32m   1132\u001b[0m full_backward_hooks, non_full_backward_hooks \u001b[39m=\u001b[39m [], []\n",
      "\u001b[1;32m/Users/morteza/workspace/CogPonder/notebooks/PonderModel.ipynb Cell 12\u001b[0m in \u001b[0;36mPonderNet.forward\u001b[0;34m(self, x)\u001b[0m\n\u001b[1;32m     <a href='vscode-notebook-cell:/Users/morteza/workspace/CogPonder/notebooks/PonderModel.ipynb#X13sZmlsZQ%3D%3D?line=26'>27</a>\u001b[0m h \u001b[39m=\u001b[39m torch\u001b[39m.\u001b[39mzeros((\u001b[39m1\u001b[39m, batch_size, \u001b[39mself\u001b[39m\u001b[39m.\u001b[39mn_embeddings))\n\u001b[1;32m     <a href='vscode-notebook-cell:/Users/morteza/workspace/CogPonder/notebooks/PonderModel.ipynb#X13sZmlsZQ%3D%3D?line=28'>29</a>\u001b[0m \u001b[39mfor\u001b[39;00m n \u001b[39min\u001b[39;00m \u001b[39mrange\u001b[39m(\u001b[39m1\u001b[39m, \u001b[39mself\u001b[39m\u001b[39m.\u001b[39mmax_steps \u001b[39m+\u001b[39m \u001b[39m1\u001b[39m):\n\u001b[0;32m---> <a href='vscode-notebook-cell:/Users/morteza/workspace/CogPonder/notebooks/PonderModel.ipynb#X13sZmlsZQ%3D%3D?line=30'>31</a>\u001b[0m   y_n, h \u001b[39m=\u001b[39m \u001b[39mself\u001b[39;49m\u001b[39m.\u001b[39;49moutput_layer(x\u001b[39m.\u001b[39;49munsqueeze(\u001b[39m0\u001b[39;49m), h)\n\u001b[1;32m     <a href='vscode-notebook-cell:/Users/morteza/workspace/CogPonder/notebooks/PonderModel.ipynb#X13sZmlsZQ%3D%3D?line=32'>33</a>\u001b[0m   \u001b[39mif\u001b[39;00m n \u001b[39m==\u001b[39m \u001b[39mself\u001b[39m\u001b[39m.\u001b[39mmax_steps:\n\u001b[1;32m     <a href='vscode-notebook-cell:/Users/morteza/workspace/CogPonder/notebooks/PonderModel.ipynb#X13sZmlsZQ%3D%3D?line=33'>34</a>\u001b[0m     lambda_n \u001b[39m=\u001b[39m torch\u001b[39m.\u001b[39mtensor(\u001b[39m1.\u001b[39m)\n",
      "File \u001b[0;32m/usr/local/Caskroom/miniforge/base/envs/CogPonder/lib/python3.10/site-packages/torch/nn/modules/module.py:1130\u001b[0m, in \u001b[0;36mModule._call_impl\u001b[0;34m(self, *input, **kwargs)\u001b[0m\n\u001b[1;32m   1126\u001b[0m \u001b[39m# If we don't have any hooks, we want to skip the rest of the logic in\u001b[39;00m\n\u001b[1;32m   1127\u001b[0m \u001b[39m# this function, and just call forward.\u001b[39;00m\n\u001b[1;32m   1128\u001b[0m \u001b[39mif\u001b[39;00m \u001b[39mnot\u001b[39;00m (\u001b[39mself\u001b[39m\u001b[39m.\u001b[39m_backward_hooks \u001b[39mor\u001b[39;00m \u001b[39mself\u001b[39m\u001b[39m.\u001b[39m_forward_hooks \u001b[39mor\u001b[39;00m \u001b[39mself\u001b[39m\u001b[39m.\u001b[39m_forward_pre_hooks \u001b[39mor\u001b[39;00m _global_backward_hooks\n\u001b[1;32m   1129\u001b[0m         \u001b[39mor\u001b[39;00m _global_forward_hooks \u001b[39mor\u001b[39;00m _global_forward_pre_hooks):\n\u001b[0;32m-> 1130\u001b[0m     \u001b[39mreturn\u001b[39;00m forward_call(\u001b[39m*\u001b[39;49m\u001b[39minput\u001b[39;49m, \u001b[39m*\u001b[39;49m\u001b[39m*\u001b[39;49mkwargs)\n\u001b[1;32m   1131\u001b[0m \u001b[39m# Do not call functions when jit is used\u001b[39;00m\n\u001b[1;32m   1132\u001b[0m full_backward_hooks, non_full_backward_hooks \u001b[39m=\u001b[39m [], []\n",
      "\u001b[1;32m/Users/morteza/workspace/CogPonder/notebooks/PonderModel.ipynb Cell 12\u001b[0m in \u001b[0;36mICOM.forward\u001b[0;34m(self, x, h)\u001b[0m\n\u001b[1;32m     <a href='vscode-notebook-cell:/Users/morteza/workspace/CogPonder/notebooks/PonderModel.ipynb#X13sZmlsZQ%3D%3D?line=19'>20</a>\u001b[0m msg \u001b[39m=\u001b[39m F\u001b[39m.\u001b[39mone_hot(x, num_classes\u001b[39m=\u001b[39m\u001b[39mself\u001b[39m\u001b[39m.\u001b[39mn_inputs)\u001b[39m.\u001b[39mtype(torch\u001b[39m.\u001b[39mfloat)\n\u001b[1;32m     <a href='vscode-notebook-cell:/Users/morteza/workspace/CogPonder/notebooks/PonderModel.ipynb#X13sZmlsZQ%3D%3D?line=20'>21</a>\u001b[0m msg \u001b[39m=\u001b[39m \u001b[39mself\u001b[39m\u001b[39m.\u001b[39mencode(msg)\n\u001b[0;32m---> <a href='vscode-notebook-cell:/Users/morteza/workspace/CogPonder/notebooks/PonderModel.ipynb#X13sZmlsZQ%3D%3D?line=21'>22</a>\u001b[0m msg, h \u001b[39m=\u001b[39m \u001b[39mself\u001b[39;49m\u001b[39m.\u001b[39;49mtransmit(msg, h)\n\u001b[1;32m     <a href='vscode-notebook-cell:/Users/morteza/workspace/CogPonder/notebooks/PonderModel.ipynb#X13sZmlsZQ%3D%3D?line=22'>23</a>\u001b[0m y \u001b[39m=\u001b[39m \u001b[39mself\u001b[39m\u001b[39m.\u001b[39mdecode(msg)\n\u001b[1;32m     <a href='vscode-notebook-cell:/Users/morteza/workspace/CogPonder/notebooks/PonderModel.ipynb#X13sZmlsZQ%3D%3D?line=24'>25</a>\u001b[0m \u001b[39mreturn\u001b[39;00m y\u001b[39m.\u001b[39msqueeze(), h\n",
      "File \u001b[0;32m/usr/local/Caskroom/miniforge/base/envs/CogPonder/lib/python3.10/site-packages/torch/nn/modules/module.py:1130\u001b[0m, in \u001b[0;36mModule._call_impl\u001b[0;34m(self, *input, **kwargs)\u001b[0m\n\u001b[1;32m   1126\u001b[0m \u001b[39m# If we don't have any hooks, we want to skip the rest of the logic in\u001b[39;00m\n\u001b[1;32m   1127\u001b[0m \u001b[39m# this function, and just call forward.\u001b[39;00m\n\u001b[1;32m   1128\u001b[0m \u001b[39mif\u001b[39;00m \u001b[39mnot\u001b[39;00m (\u001b[39mself\u001b[39m\u001b[39m.\u001b[39m_backward_hooks \u001b[39mor\u001b[39;00m \u001b[39mself\u001b[39m\u001b[39m.\u001b[39m_forward_hooks \u001b[39mor\u001b[39;00m \u001b[39mself\u001b[39m\u001b[39m.\u001b[39m_forward_pre_hooks \u001b[39mor\u001b[39;00m _global_backward_hooks\n\u001b[1;32m   1129\u001b[0m         \u001b[39mor\u001b[39;00m _global_forward_hooks \u001b[39mor\u001b[39;00m _global_forward_pre_hooks):\n\u001b[0;32m-> 1130\u001b[0m     \u001b[39mreturn\u001b[39;00m forward_call(\u001b[39m*\u001b[39;49m\u001b[39minput\u001b[39;49m, \u001b[39m*\u001b[39;49m\u001b[39m*\u001b[39;49mkwargs)\n\u001b[1;32m   1131\u001b[0m \u001b[39m# Do not call functions when jit is used\u001b[39;00m\n\u001b[1;32m   1132\u001b[0m full_backward_hooks, non_full_backward_hooks \u001b[39m=\u001b[39m [], []\n",
      "File \u001b[0;32m/usr/local/Caskroom/miniforge/base/envs/CogPonder/lib/python3.10/site-packages/torch/nn/modules/rnn.py:445\u001b[0m, in \u001b[0;36mRNN.forward\u001b[0;34m(self, input, hx)\u001b[0m\n\u001b[1;32m    443\u001b[0m     \u001b[39mif\u001b[39;00m hx \u001b[39mis\u001b[39;00m \u001b[39mnot\u001b[39;00m \u001b[39mNone\u001b[39;00m:\n\u001b[1;32m    444\u001b[0m         \u001b[39mif\u001b[39;00m hx\u001b[39m.\u001b[39mdim() \u001b[39m!=\u001b[39m \u001b[39m2\u001b[39m:\n\u001b[0;32m--> 445\u001b[0m             \u001b[39mraise\u001b[39;00m \u001b[39mRuntimeError\u001b[39;00m(\n\u001b[1;32m    446\u001b[0m                 \u001b[39mf\u001b[39m\u001b[39m\"\u001b[39m\u001b[39mFor unbatched 2-D input, hx should also be 2-D but got \u001b[39m\u001b[39m{\u001b[39;00mhx\u001b[39m.\u001b[39mdim()\u001b[39m}\u001b[39;00m\u001b[39m-D tensor\u001b[39m\u001b[39m\"\u001b[39m)\n\u001b[1;32m    447\u001b[0m         hx \u001b[39m=\u001b[39m hx\u001b[39m.\u001b[39munsqueeze(\u001b[39m1\u001b[39m)\n\u001b[1;32m    448\u001b[0m \u001b[39melse\u001b[39;00m:\n",
      "\u001b[0;31mRuntimeError\u001b[0m: For unbatched 2-D input, hx should also be 2-D but got 3-D tensor"
     ]
    }
   ],
   "source": [
    "model.eval()\n",
    "_, _, y_pred, _ = model(dataset.tensors[0].unsqueeze(0))\n",
    "# print(x.shape, y_m.shape, y_n.shape, is_halted.shape, p_m.shape, p_n.shape)\n",
    "y_pred = np.argmax(y_pred.detach().numpy(), axis=1) + 1\n",
    "y_pred, y"
   ]
  },
  {
   "cell_type": "code",
   "execution_count": 45,
   "metadata": {},
   "outputs": [
    {
     "name": "stdout",
     "output_type": "stream",
     "text": [
      "torch.Size([5, 10])\n"
     ]
    }
   ],
   "source": [
    "# example code to decode a stimulus into multiple sequence (one per channel)\n",
    "\n",
    "import torch\n",
    "from torch import nn\n",
    "\n",
    "n_inputs = 7\n",
    "max_timestep = 10\n",
    "n_channels = 5\n",
    "\n",
    "X = torch.nn.functional.one_hot(torch.tensor(4), num_classes=n_inputs).type(torch.float)\n",
    "\n",
    "decode = nn.Linear(n_inputs, n_channels * max_timestep)\n",
    "out = decode(X).reshape((n_channels, max_timestep))\n",
    "\n",
    "print(out.shape)"
   ]
  },
  {
   "cell_type": "code",
   "execution_count": 35,
   "metadata": {},
   "outputs": [
    {
     "data": {
      "text/plain": [
       "tensor([ 1., 31.])"
      ]
     },
     "execution_count": 35,
     "metadata": {},
     "output_type": "execute_result"
    }
   ],
   "source": [
    "d = torch.distributions.Geometric(torch.tensor([0.3, .01]))\n",
    "\n",
    "d.sample()"
   ]
  }
 ],
 "metadata": {
  "kernelspec": {
   "display_name": "Python 3.10.5 ('CogPonder')",
   "language": "python",
   "name": "python3"
  },
  "language_info": {
   "codemirror_mode": {
    "name": "ipython",
    "version": 3
   },
   "file_extension": ".py",
   "mimetype": "text/x-python",
   "name": "python",
   "nbconvert_exporter": "python",
   "pygments_lexer": "ipython3",
   "version": "3.10.5"
  },
  "orig_nbformat": 4,
  "vscode": {
   "interpreter": {
    "hash": "fda182afad02a599cbe29528311e73282b27fcc00ceb6a951541e1119641c8c1"
   }
  }
 },
 "nbformat": 4,
 "nbformat_minor": 2
}
