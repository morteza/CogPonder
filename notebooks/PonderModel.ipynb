{
 "cells": [
  {
   "cell_type": "markdown",
   "metadata": {},
   "source": [
    "# PonderICOM: Joint Modeling of Accuracy and Speed in Cognitive Tasks\n",
    "## Intro\n",
    "\n",
    "In the context of behavioral data, we are interested in simultaneously modeling speed and accuracy. Yet, most advanced techniques in machine learning cannot capture such a duality of decision making data.\n",
    "\n",
    "\n",
    "Building on [PonderNet](https://arxiv.org/abs/2107.05407) and [Variable Rate Coding](https://doi.org/10.32470/CCN.2019.1397-0), this notebook implements a neural model that captures speed and accuracy of human-like responses.\n",
    "\n",
    "Given stimulus symbols as inputs, the model produces two outputs:\n",
    "\n",
    "- Response symbol, which, in comparison with the input stimuli, can be used to measure accuracy).\n",
    "- Halting probability ($\\lambda_n$).\n",
    "\n",
    "Under the hood, the model iterates over a ICOM-like component to reach a halting point in time. Unlike DDM and ICOM models, all the parameters and outcomes of the current model *seem* cognitively interpretable.\n",
    "\n",
    "### Additional resources\n",
    "\n",
    "- [ICOM network model](https://drive.google.com/file/d/16eiUUwKGWfh9pu9VUxzlx046hQNHV0Qe/view?usp=sharinghttps://drive.google.com/file/d/16eiUUwKGWfh9pu9VUxzlx046hQNHV0Qe/view?usp=sharing)\n"
   ]
  },
  {
   "cell_type": "markdown",
   "metadata": {},
   "source": [
    "## Problem setting\n",
    "\n",
    "### Model\n",
    "Given input and output data, we want to learn a supervised model of the function $X \\to y$ as follows:\n",
    "\n",
    "$\n",
    "f: X,h_n \\mapsto \\tilde{y},h_{n+1}, \\lambda_n\n",
    "$\n",
    "\n",
    "where $X$ and $y$ denote stimulus and response symbols, $\\lambda_n$ denotes halting probability at time $n$, and $h_{n}$ is the latent state of the model. The learninig continious up to the time point $N$.\n",
    "\n",
    "For the brevity and compatibility, both data are one-hot encoded.\n",
    "\n",
    "\n",
    "### Input\n",
    "\n",
    "One-hot encoded symbols.\n",
    "\n",
    "### Output\n",
    "\n",
    "One-hot encoded symbols.\n",
    "\n",
    "### Criterion\n",
    "\n",
    "L = L_cross_entropy + L_halting"
   ]
  },
  {
   "cell_type": "code",
   "execution_count": 1,
   "metadata": {},
   "outputs": [],
   "source": [
    "\n",
    "%reload_ext autoreload\n",
    "%autoreload 3\n",
    "\n",
    "# Setup and imports\n",
    "import torch\n",
    "from torch import nn\n",
    "import torch.nn.functional as F\n",
    "from torch.utils.data import TensorDataset, DataLoader, random_split\n",
    "\n",
    "from tqdm import tqdm\n",
    "\n",
    "from sklearn.metrics import accuracy_score\n",
    "\n",
    "import matplotlib.pyplot as plt\n",
    "import seaborn as sns; sns.set()\n",
    "\n",
    "from torch.utils.tensorboard import SummaryWriter\n",
    "# import tensorboard as tb\n",
    "# import tensorflow as tf\n",
    "# tf.io.gfile = tb.compat.tensorflow_stub.io.gfile #FIX storing embeddings using tensorboard\n",
    "\n",
    "\n",
    "from cogponder import NBackDataset\n",
    "from cogponder import PonderNet, ICOM, ReconstructionLoss, RegularizationLoss"
   ]
  },
  {
   "cell_type": "markdown",
   "metadata": {},
   "source": [
    "## Data"
   ]
  },
  {
   "cell_type": "code",
   "execution_count": 2,
   "metadata": {},
   "outputs": [],
   "source": [
    "# generate mock n-back data\n",
    "\n",
    "max_steps = 20\n",
    "n_subjects = 2\n",
    "n_trials = 100\n",
    "n_stimuli = 6\n",
    "\n",
    "dataset = NBackDataset(n_subjects, n_trials, n_stimuli)\n",
    "\n",
    "X, y, accuracies, response_times = dataset[0]\n",
    "y = torch.where(y != 0.0, 1, 0)\n",
    "\n",
    "# DEBUG\n",
    "# X.shape, y.shape, accuracies.shape, response_times.shape"
   ]
  },
  {
   "cell_type": "code",
   "execution_count": 35,
   "metadata": {},
   "outputs": [
    {
     "name": "stderr",
     "output_type": "stream",
     "text": [
      "/var/folders/3_/gmvd1nkx285133z5yh3chz2c0000gp/T/ipykernel_42280/1751406070.py:9: UserWarning: To copy construct from a tensor, it is recommended to use sourceTensor.clone().detach() or sourceTensor.clone().detach().requires_grad_(True), rather than torch.tensor(sourceTensor).\n",
      "  dataset = TensorDataset(torch.tensor(X), torch.tensor(y).to(torch.float))\n"
     ]
    },
    {
     "name": "stdout",
     "output_type": "stream",
     "text": [
      "tensor([1., 1., 1., 1., 1., 1., 1., 1., 1., 1., 1., 1., 1., 1., 0., 1., 1., 1.,\n",
      "        1., 1., 1., 1., 1., 1., 1., 1., 1., 1., 0., 1., 1., 1., 1., 1., 1., 1.,\n",
      "        1., 1., 1., 1., 1., 1., 1., 1., 1., 1., 1., 1., 1., 1., 1., 1., 0., 1.,\n",
      "        1., 1., 1., 1., 1., 1., 1., 1., 1., 1., 1., 1., 0., 1., 1., 1., 1., 1.,\n",
      "        1., 1., 1., 1., 0., 1.])\n"
     ]
    },
    {
     "name": "stderr",
     "output_type": "stream",
     "text": [
      "Epochs:   0%|          | 0/100 [00:00<?, ?it/s]\n"
     ]
    },
    {
     "name": "stdout",
     "output_type": "stream",
     "text": [
      "torch.Size([78, 2]) torch.Size([78])\n"
     ]
    },
    {
     "ename": "RuntimeError",
     "evalue": "expected scalar type Long but found Float",
     "output_type": "error",
     "traceback": [
      "\u001b[0;31m---------------------------------------------------------------------------\u001b[0m",
      "\u001b[0;31mRuntimeError\u001b[0m                              Traceback (most recent call last)",
      "\u001b[1;32m/Users/morteza/workspace/CogPonder/notebooks/PonderModel.ipynb Cell 6\u001b[0m in \u001b[0;36m<cell line: 28>\u001b[0;34m()\u001b[0m\n\u001b[1;32m     <a href='vscode-notebook-cell:/Users/morteza/workspace/CogPonder/notebooks/PonderModel.ipynb#X12sZmlsZQ%3D%3D?line=35'>36</a>\u001b[0m y_pred \u001b[39m=\u001b[39m y_pred\u001b[39m.\u001b[39margmax(dim\u001b[39m=\u001b[39m\u001b[39m1\u001b[39m)\u001b[39m.\u001b[39mto(torch\u001b[39m.\u001b[39mfloat)\n\u001b[1;32m     <a href='vscode-notebook-cell:/Users/morteza/workspace/CogPonder/notebooks/PonderModel.ipynb#X12sZmlsZQ%3D%3D?line=36'>37</a>\u001b[0m \u001b[39m# y_pred.requires_grad = True\u001b[39;00m\n\u001b[1;32m     <a href='vscode-notebook-cell:/Users/morteza/workspace/CogPonder/notebooks/PonderModel.ipynb#X12sZmlsZQ%3D%3D?line=37'>38</a>\u001b[0m \n\u001b[1;32m     <a href='vscode-notebook-cell:/Users/morteza/workspace/CogPonder/notebooks/PonderModel.ipynb#X12sZmlsZQ%3D%3D?line=38'>39</a>\u001b[0m \u001b[39m# loss = loss_fn(y_pred, y_train)\u001b[39;00m\n\u001b[0;32m---> <a href='vscode-notebook-cell:/Users/morteza/workspace/CogPonder/notebooks/PonderModel.ipynb#X12sZmlsZQ%3D%3D?line=40'>41</a>\u001b[0m loss_rec \u001b[39m=\u001b[39m loss_rec_fn(p_halt, y_steps, y_train)\n\u001b[1;32m     <a href='vscode-notebook-cell:/Users/morteza/workspace/CogPonder/notebooks/PonderModel.ipynb#X12sZmlsZQ%3D%3D?line=41'>42</a>\u001b[0m loss_reg \u001b[39m=\u001b[39m loss_reg_fn(p_halt)\n\u001b[1;32m     <a href='vscode-notebook-cell:/Users/morteza/workspace/CogPonder/notebooks/PonderModel.ipynb#X12sZmlsZQ%3D%3D?line=42'>43</a>\u001b[0m loss \u001b[39m=\u001b[39m loss_rec \u001b[39m+\u001b[39m loss_beta \u001b[39m*\u001b[39m loss_reg\n",
      "File \u001b[0;32m/usr/local/Caskroom/miniforge/base/envs/CogPonder/lib/python3.10/site-packages/torch/nn/modules/module.py:1130\u001b[0m, in \u001b[0;36mModule._call_impl\u001b[0;34m(self, *input, **kwargs)\u001b[0m\n\u001b[1;32m   1126\u001b[0m \u001b[39m# If we don't have any hooks, we want to skip the rest of the logic in\u001b[39;00m\n\u001b[1;32m   1127\u001b[0m \u001b[39m# this function, and just call forward.\u001b[39;00m\n\u001b[1;32m   1128\u001b[0m \u001b[39mif\u001b[39;00m \u001b[39mnot\u001b[39;00m (\u001b[39mself\u001b[39m\u001b[39m.\u001b[39m_backward_hooks \u001b[39mor\u001b[39;00m \u001b[39mself\u001b[39m\u001b[39m.\u001b[39m_forward_hooks \u001b[39mor\u001b[39;00m \u001b[39mself\u001b[39m\u001b[39m.\u001b[39m_forward_pre_hooks \u001b[39mor\u001b[39;00m _global_backward_hooks\n\u001b[1;32m   1129\u001b[0m         \u001b[39mor\u001b[39;00m _global_forward_hooks \u001b[39mor\u001b[39;00m _global_forward_pre_hooks):\n\u001b[0;32m-> 1130\u001b[0m     \u001b[39mreturn\u001b[39;00m forward_call(\u001b[39m*\u001b[39;49m\u001b[39minput\u001b[39;49m, \u001b[39m*\u001b[39;49m\u001b[39m*\u001b[39;49mkwargs)\n\u001b[1;32m   1131\u001b[0m \u001b[39m# Do not call functions when jit is used\u001b[39;00m\n\u001b[1;32m   1132\u001b[0m full_backward_hooks, non_full_backward_hooks \u001b[39m=\u001b[39m [], []\n",
      "File \u001b[0;32m~/workspace/CogPonder/cogponder/loss.py:34\u001b[0m, in \u001b[0;36mReconstructionLoss.forward\u001b[0;34m(self, p, y_pred, y_true)\u001b[0m\n\u001b[1;32m     31\u001b[0m total_loss \u001b[39m=\u001b[39m p\u001b[39m.\u001b[39mnew_tensor(\u001b[39m0.0\u001b[39m)\n\u001b[1;32m     33\u001b[0m \u001b[39mfor\u001b[39;00m n \u001b[39min\u001b[39;00m \u001b[39mrange\u001b[39m(max_steps):\n\u001b[0;32m---> 34\u001b[0m     step_loss \u001b[39m=\u001b[39m p[n] \u001b[39m*\u001b[39m \u001b[39mself\u001b[39;49m\u001b[39m.\u001b[39;49mloss_func(y_pred[:, n, :], y_true)  \u001b[39m# (batch_size,)\u001b[39;00m\n\u001b[1;32m     35\u001b[0m     total_loss \u001b[39m=\u001b[39m total_loss \u001b[39m+\u001b[39m step_loss\u001b[39m.\u001b[39mmean()  \u001b[39m# (1,)\u001b[39;00m\n\u001b[1;32m     37\u001b[0m \u001b[39mreturn\u001b[39;00m total_loss\n",
      "File \u001b[0;32m/usr/local/Caskroom/miniforge/base/envs/CogPonder/lib/python3.10/site-packages/torch/nn/modules/module.py:1130\u001b[0m, in \u001b[0;36mModule._call_impl\u001b[0;34m(self, *input, **kwargs)\u001b[0m\n\u001b[1;32m   1126\u001b[0m \u001b[39m# If we don't have any hooks, we want to skip the rest of the logic in\u001b[39;00m\n\u001b[1;32m   1127\u001b[0m \u001b[39m# this function, and just call forward.\u001b[39;00m\n\u001b[1;32m   1128\u001b[0m \u001b[39mif\u001b[39;00m \u001b[39mnot\u001b[39;00m (\u001b[39mself\u001b[39m\u001b[39m.\u001b[39m_backward_hooks \u001b[39mor\u001b[39;00m \u001b[39mself\u001b[39m\u001b[39m.\u001b[39m_forward_hooks \u001b[39mor\u001b[39;00m \u001b[39mself\u001b[39m\u001b[39m.\u001b[39m_forward_pre_hooks \u001b[39mor\u001b[39;00m _global_backward_hooks\n\u001b[1;32m   1129\u001b[0m         \u001b[39mor\u001b[39;00m _global_forward_hooks \u001b[39mor\u001b[39;00m _global_forward_pre_hooks):\n\u001b[0;32m-> 1130\u001b[0m     \u001b[39mreturn\u001b[39;00m forward_call(\u001b[39m*\u001b[39;49m\u001b[39minput\u001b[39;49m, \u001b[39m*\u001b[39;49m\u001b[39m*\u001b[39;49mkwargs)\n\u001b[1;32m   1131\u001b[0m \u001b[39m# Do not call functions when jit is used\u001b[39;00m\n\u001b[1;32m   1132\u001b[0m full_backward_hooks, non_full_backward_hooks \u001b[39m=\u001b[39m [], []\n",
      "File \u001b[0;32m/usr/local/Caskroom/miniforge/base/envs/CogPonder/lib/python3.10/site-packages/torch/nn/modules/loss.py:1164\u001b[0m, in \u001b[0;36mCrossEntropyLoss.forward\u001b[0;34m(self, input, target)\u001b[0m\n\u001b[1;32m   1163\u001b[0m \u001b[39mdef\u001b[39;00m \u001b[39mforward\u001b[39m(\u001b[39mself\u001b[39m, \u001b[39minput\u001b[39m: Tensor, target: Tensor) \u001b[39m-\u001b[39m\u001b[39m>\u001b[39m Tensor:\n\u001b[0;32m-> 1164\u001b[0m     \u001b[39mreturn\u001b[39;00m F\u001b[39m.\u001b[39;49mcross_entropy(\u001b[39minput\u001b[39;49m, target, weight\u001b[39m=\u001b[39;49m\u001b[39mself\u001b[39;49m\u001b[39m.\u001b[39;49mweight,\n\u001b[1;32m   1165\u001b[0m                            ignore_index\u001b[39m=\u001b[39;49m\u001b[39mself\u001b[39;49m\u001b[39m.\u001b[39;49mignore_index, reduction\u001b[39m=\u001b[39;49m\u001b[39mself\u001b[39;49m\u001b[39m.\u001b[39;49mreduction,\n\u001b[1;32m   1166\u001b[0m                            label_smoothing\u001b[39m=\u001b[39;49m\u001b[39mself\u001b[39;49m\u001b[39m.\u001b[39;49mlabel_smoothing)\n",
      "File \u001b[0;32m/usr/local/Caskroom/miniforge/base/envs/CogPonder/lib/python3.10/site-packages/torch/nn/functional.py:3014\u001b[0m, in \u001b[0;36mcross_entropy\u001b[0;34m(input, target, weight, size_average, ignore_index, reduce, reduction, label_smoothing)\u001b[0m\n\u001b[1;32m   3012\u001b[0m \u001b[39mif\u001b[39;00m size_average \u001b[39mis\u001b[39;00m \u001b[39mnot\u001b[39;00m \u001b[39mNone\u001b[39;00m \u001b[39mor\u001b[39;00m reduce \u001b[39mis\u001b[39;00m \u001b[39mnot\u001b[39;00m \u001b[39mNone\u001b[39;00m:\n\u001b[1;32m   3013\u001b[0m     reduction \u001b[39m=\u001b[39m _Reduction\u001b[39m.\u001b[39mlegacy_get_string(size_average, reduce)\n\u001b[0;32m-> 3014\u001b[0m \u001b[39mreturn\u001b[39;00m torch\u001b[39m.\u001b[39;49m_C\u001b[39m.\u001b[39;49m_nn\u001b[39m.\u001b[39;49mcross_entropy_loss(\u001b[39minput\u001b[39;49m, target, weight, _Reduction\u001b[39m.\u001b[39;49mget_enum(reduction), ignore_index, label_smoothing)\n",
      "\u001b[0;31mRuntimeError\u001b[0m: expected scalar type Long but found Float"
     ]
    }
   ],
   "source": [
    "# training params\n",
    "n_epoches = 100\n",
    "\n",
    "logs = SummaryWriter()\n",
    "\n",
    "model = PonderNet(ICOM, n_stimuli+1, n_stimuli, 2, 20)\n",
    "optimizer = torch.optim.Adam(model.parameters(), lr=0.001)\n",
    "\n",
    "dataset = TensorDataset(torch.tensor(X), torch.tensor(y).to(torch.float))\n",
    "\n",
    "\n",
    "# split params\n",
    "train_size = int(len(dataset) * .8)\n",
    "test_size = len(dataset) - train_size\n",
    "\n",
    "train_subset, test_subset = random_split(dataset, lengths=(train_size,test_size))\n",
    "\n",
    "X_train, y_train = dataset[train_subset.indices]\n",
    "X_test, y_test = dataset[test_subset.indices]\n",
    "\n",
    "loss_rec_fn = ReconstructionLoss(nn.CrossEntropyLoss(reduction='mean'))\n",
    "loss_reg_fn = RegularizationLoss(lambda_p=.5, max_steps=20)\n",
    "loss_beta = .01\n",
    "\n",
    "loss_fn = nn.CrossEntropyLoss(reduction='mean')\n",
    "\n",
    "for epoch in tqdm(range(n_epoches), desc='Epochs'):\n",
    "\n",
    "  model.train()\n",
    "  optimizer.zero_grad()\n",
    "  y_steps, _, y_pred, p_halt, halt_step = model(X_train)\n",
    "\n",
    "  # FIXME\n",
    "  y_pred = y_pred.argmax(dim=1).to(torch.float)\n",
    "  # y_pred.requires_grad = True\n",
    "\n",
    "  # loss = loss_fn(y_pred, y_train)\n",
    "\n",
    "  loss_rec = loss_rec_fn(p_halt, y_steps, y_train)\n",
    "  loss_reg = loss_reg_fn(p_halt)\n",
    "  loss = loss_rec + loss_beta * loss_reg\n",
    "  \n",
    "  optimizer.zero_grad()\n",
    "  loss.backward()\n",
    "  optimizer.step()\n",
    "\n",
    "  logs.add_scalar('loss/train', loss, epoch)\n",
    "\n",
    "  # accuracy_train = accuracy_score(y_train.detach().numpy(), y_pred.detach().numpy())\n",
    "  # logs.add_scalar('accuracy/train', accuracy_train, epoch)  \n",
    "\n",
    "  # model.eval()\n",
    "  # with torch.no_grad():\n",
    "  #   _, _, y_pred, _ = model(X_test)\n",
    "  #   loss = criterion(y_test, y_pred)\n",
    "  #   logs.add_scalar('loss/test', loss.detach(), epoch)\n",
    "\n",
    "# tensorboard --logdir=runs"
   ]
  },
  {
   "cell_type": "code",
   "execution_count": null,
   "metadata": {},
   "outputs": [],
   "source": [
    "# example code to decode a stimulus into multiple sequence (one per channel)\n",
    "\n",
    "import torch\n",
    "from torch import nn\n",
    "\n",
    "n_inputs = 7\n",
    "max_timestep = 10\n",
    "n_channels = 5\n",
    "\n",
    "X = torch.nn.functional.one_hot(torch.tensor(4), num_classes=n_inputs).type(torch.float)\n",
    "\n",
    "decode = nn.Linear(n_inputs, n_channels * max_timestep)\n",
    "out = decode(X).reshape((n_channels, max_timestep))\n",
    "\n",
    "print(out.shape)"
   ]
  },
  {
   "cell_type": "code",
   "execution_count": null,
   "metadata": {},
   "outputs": [],
   "source": [
    "d = torch.distributions.Geometric(torch.tensor([0.3, .01]))\n",
    "\n",
    "d.sample()"
   ]
  }
 ],
 "metadata": {
  "kernelspec": {
   "display_name": "Python 3.10.5 ('CogPonder')",
   "language": "python",
   "name": "python3"
  },
  "language_info": {
   "codemirror_mode": {
    "name": "ipython",
    "version": 3
   },
   "file_extension": ".py",
   "mimetype": "text/x-python",
   "name": "python",
   "nbconvert_exporter": "python",
   "pygments_lexer": "ipython3",
   "version": "3.10.5"
  },
  "orig_nbformat": 4,
  "vscode": {
   "interpreter": {
    "hash": "fda182afad02a599cbe29528311e73282b27fcc00ceb6a951541e1119641c8c1"
   }
  }
 },
 "nbformat": 4,
 "nbformat_minor": 2
}
