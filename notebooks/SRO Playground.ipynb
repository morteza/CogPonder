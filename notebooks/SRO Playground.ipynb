{
 "cells": [
  {
   "cell_type": "code",
   "execution_count": null,
   "metadata": {},
   "outputs": [],
   "source": [
    "import pandas as pd\n",
    "import seaborn as sns"
   ]
  },
  {
   "cell_type": "code",
   "execution_count": null,
   "metadata": {},
   "outputs": [],
   "source": [
    "data = pd.read_csv('data/Self_Regulation_Ontology/adaptive_n_back.csv.gz', index_col=0)\n",
    "data = data.query('worker_id == worker_id.unique()[-1] and exp_stage == \"adaptive\"')\n",
    "\n",
    "data_s521_2back = data.query('load == 2').sort_values(['block_num', 'trial_num'])\n",
    "data_s521_2back"
   ]
  },
  {
   "cell_type": "code",
   "execution_count": null,
   "metadata": {},
   "outputs": [],
   "source": [
    "stimuli = data_s521_2back.stim.str.upper()\n",
    "rt = data_s521_2back.rt.values\n",
    "responses = data_s521_2back.key_press\n",
    "is_corrects = data_s521_2back.correct\n",
    "targets = data_s521_2back.target\n",
    "# sns.kdeplot(rt)\n",
    "is_corrects"
   ]
  }
 ],
 "metadata": {
  "kernelspec": {
   "display_name": "Python 3.10.6 ('ponder')",
   "language": "python",
   "name": "python3"
  },
  "language_info": {
   "codemirror_mode": {
    "name": "ipython",
    "version": 3
   },
   "file_extension": ".py",
   "mimetype": "text/x-python",
   "name": "python",
   "nbconvert_exporter": "python",
   "pygments_lexer": "ipython3",
   "version": "3.10.6"
  },
  "orig_nbformat": 4,
  "vscode": {
   "interpreter": {
    "hash": "76027f054aa38c6d5055560f9009a0f692d2c97ebd1740bbb514e2260aad097b"
   }
  }
 },
 "nbformat": 4,
 "nbformat_minor": 2
}
