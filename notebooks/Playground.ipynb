{
 "cells": [
  {
   "cell_type": "code",
   "execution_count": null,
   "metadata": {},
   "outputs": [],
   "source": [
    "# Imports\n",
    "\n",
    "%reload_ext autoreload\n",
    "%autoreload 3\n",
    "\n",
    "import torch\n",
    "from torch import nn\n",
    "import torch.nn.functional as F\n",
    "import pytorch_lightning as pl\n",
    "\n",
    "from src.cogponder import CogPonderModel\n",
    "from src.cogponder.data import CogPonderDataModule, StroopSRODataset, NBackSRODataset"
   ]
  },
  {
   "cell_type": "code",
   "execution_count": null,
   "metadata": {
    "tags": [
     "parameters"
    ]
   },
   "outputs": [],
   "source": [
    "# Parameters\n",
    "\n",
    "step_duration = 20  # in ms\n",
    "batch_size = 512\n",
    "max_epochs = 1000"
   ]
  },
  {
   "cell_type": "code",
   "execution_count": null,
   "metadata": {},
   "outputs": [],
   "source": [
    "# Data\n",
    "\n",
    "nback_dataset = NBackSRODataset(n_subjects=-1, n_back=2, step_duration=step_duration)\n",
    "stroop_dataset = StroopSRODataset(n_subjects=-1, step_duration=step_duration)\n",
    "\n",
    "datamodule = CogPonderDataModule({\n",
    "    # 'nback': nback_dataset,\n",
    "    'stroop': stroop_dataset\n",
    "}, batch_size=batch_size, num_workers=8, train_ratio=.5)\n",
    "\n",
    "datamodule.prepare_data()"
   ]
  },
  {
   "cell_type": "code",
   "execution_count": null,
   "metadata": {},
   "outputs": [],
   "source": [
    "# Experiment\n",
    "\n",
    "\n",
    "configs = {\n",
    "    'inputs_dim': 1,\n",
    "    'outputs_dim': datamodule.dataset[:][4].unique().size(0),\n",
    "    'embeddings_dim': 8,\n",
    "    'response_loss_beta': 1.,\n",
    "    'time_loss_beta': 10.,\n",
    "    'learning_rate': 1e-2,\n",
    "    'max_response_step': 150, # dataset[:][5].max().int().item() + 10,\n",
    "    'n_contexts': datamodule.dataset[:][2].unique().size(0),\n",
    "    'n_subjects': datamodule.dataset[:][0].unique().size(0),\n",
    "    'subject_embeddings_dim': 2,\n",
    "    'task': 'stroop',\n",
    "    'operator_type': 'simple',  # 'spatiotemporal',\n",
    "}\n",
    "\n",
    "model = CogPonderModel(**configs)\n",
    "\n",
    "trainer = pl.Trainer(max_epochs=max_epochs, accelerator='cpu', log_every_n_steps=2)\n",
    "\n",
    "trainer.fit(model, datamodule=datamodule)"
   ]
  }
 ],
 "metadata": {
  "kernelspec": {
   "display_name": "seq2conn",
   "language": "python",
   "name": "python3"
  },
  "language_info": {
   "codemirror_mode": {
    "name": "ipython",
    "version": 3
   },
   "file_extension": ".py",
   "mimetype": "text/x-python",
   "name": "python",
   "nbconvert_exporter": "python",
   "pygments_lexer": "ipython3",
   "version": "3.11.4"
  },
  "orig_nbformat": 4
 },
 "nbformat": 4,
 "nbformat_minor": 2
}
