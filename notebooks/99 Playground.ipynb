{
 "cells": [
  {
   "cell_type": "code",
   "execution_count": 1,
   "metadata": {},
   "outputs": [],
   "source": [
    "# Imports\n",
    "\n",
    "%reload_ext autoreload\n",
    "%autoreload 3\n",
    "\n",
    "import numpy as np\n",
    "import torch\n",
    "from torch import nn\n",
    "import pytorch_lightning as pl\n",
    "\n",
    "from src.cogponder import CogPonderModel\n",
    "from src.cogponder.data import CogPonderDataModule\n",
    "from src.cogponder.data.stroop_sro import StroopSRODataset\n"
   ]
  },
  {
   "cell_type": "code",
   "execution_count": 18,
   "metadata": {},
   "outputs": [
    {
     "ename": "IndexError",
     "evalue": "too many indices for tensor of dimension 1",
     "output_type": "error",
     "traceback": [
      "\u001b[0;31m---------------------------------------------------------------------------\u001b[0m",
      "\u001b[0;31mIndexError\u001b[0m                                Traceback (most recent call last)",
      "Cell \u001b[0;32mIn[18], line 11\u001b[0m\n\u001b[1;32m      6\u001b[0m dataset \u001b[39m=\u001b[39m StroopSRODataset(response_step_interval\u001b[39m=\u001b[39mstep_duration)\n\u001b[1;32m      8\u001b[0m datamodule \u001b[39m=\u001b[39m CogPonderDataModule(dataset, batch_size\u001b[39m=\u001b[39mbatch_size, num_workers\u001b[39m=\u001b[39m\u001b[39m8\u001b[39m)\n\u001b[1;32m     10\u001b[0m configs \u001b[39m=\u001b[39m {\n\u001b[0;32m---> 11\u001b[0m     \u001b[39m'\u001b[39m\u001b[39minputs_dim\u001b[39m\u001b[39m'\u001b[39m: dataset\u001b[39m.\u001b[39;49m_data[\u001b[39m'\u001b[39;49m\u001b[39mstimuli\u001b[39;49m\u001b[39m'\u001b[39;49m]\u001b[39m.\u001b[39mshape[\u001b[39m1\u001b[39m],\n\u001b[1;32m     12\u001b[0m     \u001b[39m'\u001b[39m\u001b[39moutputs_dim\u001b[39m\u001b[39m'\u001b[39m: np\u001b[39m.\u001b[39munique(dataset\u001b[39m.\u001b[39m_data[\u001b[39m'\u001b[39m\u001b[39mresponses\u001b[39m\u001b[39m'\u001b[39m]\u001b[39m.\u001b[39mdata)\u001b[39m.\u001b[39mshape[\u001b[39m0\u001b[39m],\n\u001b[1;32m     13\u001b[0m     \u001b[39m'\u001b[39m\u001b[39membeddings_dim\u001b[39m\u001b[39m'\u001b[39m: \u001b[39m10\u001b[39m,\n\u001b[1;32m     14\u001b[0m     \u001b[39m'\u001b[39m\u001b[39mresponse_loss_beta\u001b[39m\u001b[39m'\u001b[39m: \u001b[39m1.\u001b[39m,\n\u001b[1;32m     15\u001b[0m     \u001b[39m'\u001b[39m\u001b[39mtime_loss_beta\u001b[39m\u001b[39m'\u001b[39m: \u001b[39m10.\u001b[39m,\n\u001b[1;32m     16\u001b[0m     \u001b[39m'\u001b[39m\u001b[39mlearning_rate\u001b[39m\u001b[39m'\u001b[39m: \u001b[39m1e-2\u001b[39m,\n\u001b[1;32m     17\u001b[0m     \u001b[39m'\u001b[39m\u001b[39mmax_response_step\u001b[39m\u001b[39m'\u001b[39m: dataset\u001b[39m.\u001b[39m_data[\u001b[39m'\u001b[39m\u001b[39mresponse_steps\u001b[39m\u001b[39m'\u001b[39m]\u001b[39m.\u001b[39mdata\u001b[39m.\u001b[39mmax() \u001b[39m+\u001b[39m \u001b[39m10\u001b[39m,\n\u001b[1;32m     18\u001b[0m     \u001b[39m'\u001b[39m\u001b[39mn_contexts\u001b[39m\u001b[39m'\u001b[39m: np\u001b[39m.\u001b[39munique(dataset\u001b[39m.\u001b[39m_data[\u001b[39m'\u001b[39m\u001b[39mcontexts\u001b[39m\u001b[39m'\u001b[39m]\u001b[39m.\u001b[39mdata)\u001b[39m.\u001b[39mshape[\u001b[39m0\u001b[39m],\n\u001b[1;32m     19\u001b[0m     \u001b[39m'\u001b[39m\u001b[39mn_subjects\u001b[39m\u001b[39m'\u001b[39m: np\u001b[39m.\u001b[39munique(dataset\u001b[39m.\u001b[39m_data[\u001b[39m'\u001b[39m\u001b[39msubject_ids\u001b[39m\u001b[39m'\u001b[39m]\u001b[39m.\u001b[39mdata)\u001b[39m.\u001b[39mshape[\u001b[39m0\u001b[39m],\n\u001b[1;32m     20\u001b[0m     \u001b[39m'\u001b[39m\u001b[39msubject_embeddings_dim\u001b[39m\u001b[39m'\u001b[39m: \u001b[39m2\u001b[39m,\n\u001b[1;32m     21\u001b[0m     \u001b[39m'\u001b[39m\u001b[39mtask\u001b[39m\u001b[39m'\u001b[39m: \u001b[39m'\u001b[39m\u001b[39mnback\u001b[39m\u001b[39m'\u001b[39m\n\u001b[1;32m     22\u001b[0m }\n\u001b[1;32m     24\u001b[0m model \u001b[39m=\u001b[39m CogPonderModel(\u001b[39m*\u001b[39m\u001b[39m*\u001b[39mconfigs)\n\u001b[1;32m     26\u001b[0m trainer \u001b[39m=\u001b[39m pl\u001b[39m.\u001b[39mTrainer(max_epochs\u001b[39m=\u001b[39m\u001b[39m1000\u001b[39m, accelerator\u001b[39m=\u001b[39m\u001b[39m'\u001b[39m\u001b[39mcpu\u001b[39m\u001b[39m'\u001b[39m, log_every_n_steps\u001b[39m=\u001b[39m\u001b[39m2\u001b[39m)\n",
      "File \u001b[0;32m~/micromamba/envs/cogponder/lib/python3.10/site-packages/torch/utils/data/dataset.py:196\u001b[0m, in \u001b[0;36mTensorDataset.__getitem__\u001b[0;34m(self, index)\u001b[0m\n\u001b[1;32m    195\u001b[0m \u001b[39mdef\u001b[39;00m \u001b[39m__getitem__\u001b[39m(\u001b[39mself\u001b[39m, index):\n\u001b[0;32m--> 196\u001b[0m     \u001b[39mreturn\u001b[39;00m \u001b[39mtuple\u001b[39;49m(tensor[index] \u001b[39mfor\u001b[39;49;00m tensor \u001b[39min\u001b[39;49;00m \u001b[39mself\u001b[39;49m\u001b[39m.\u001b[39;49mtensors)\n",
      "File \u001b[0;32m~/micromamba/envs/cogponder/lib/python3.10/site-packages/torch/utils/data/dataset.py:196\u001b[0m, in \u001b[0;36m<genexpr>\u001b[0;34m(.0)\u001b[0m\n\u001b[1;32m    195\u001b[0m \u001b[39mdef\u001b[39;00m \u001b[39m__getitem__\u001b[39m(\u001b[39mself\u001b[39m, index):\n\u001b[0;32m--> 196\u001b[0m     \u001b[39mreturn\u001b[39;00m \u001b[39mtuple\u001b[39m(tensor[index] \u001b[39mfor\u001b[39;00m tensor \u001b[39min\u001b[39;00m \u001b[39mself\u001b[39m\u001b[39m.\u001b[39mtensors)\n",
      "\u001b[0;31mIndexError\u001b[0m: too many indices for tensor of dimension 1"
     ]
    }
   ],
   "source": [
    "# Experiment\n",
    "\n",
    "step_duration = 10  # in ms\n",
    "batch_size = 512\n",
    "\n",
    "dataset = StroopSRODataset(response_step_interval=step_duration)\n",
    "\n",
    "datamodule = CogPonderDataModule(dataset, batch_size=batch_size, num_workers=8)\n",
    "\n",
    "configs = {\n",
    "    'inputs_dim': dataset._data['stimuli'].shape[1],\n",
    "    'outputs_dim': np.unique(dataset._data['responses'].data).shape[0],\n",
    "    'embeddings_dim': 10,\n",
    "    'response_loss_beta': 1.,\n",
    "    'time_loss_beta': 10.,\n",
    "    'learning_rate': 1e-2,\n",
    "    'max_response_step': dataset._data['response_steps'].data.max() + 10,\n",
    "    'n_contexts': np.unique(dataset._data['contexts'].data).shape[0],\n",
    "    'n_subjects': np.unique(dataset._data['subject_ids'].data).shape[0],\n",
    "    'subject_embeddings_dim': 2,\n",
    "    'task': 'nback'\n",
    "}\n",
    "\n",
    "model = CogPonderModel(**configs)\n",
    "\n",
    "trainer = pl.Trainer(max_epochs=1000, accelerator='cpu', log_every_n_steps=2)\n",
    "\n",
    "trainer.fit(model, datamodule=datamodule)"
   ]
  }
 ],
 "metadata": {
  "kernelspec": {
   "display_name": "seq2conn",
   "language": "python",
   "name": "python3"
  },
  "language_info": {
   "codemirror_mode": {
    "name": "ipython",
    "version": 3
   },
   "file_extension": ".py",
   "mimetype": "text/x-python",
   "name": "python",
   "nbconvert_exporter": "python",
   "pygments_lexer": "ipython3",
   "version": "3.10.10"
  },
  "orig_nbformat": 4
 },
 "nbformat": 4,
 "nbformat_minor": 2
}
