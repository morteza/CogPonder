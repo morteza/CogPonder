{
 "cells": [
  {
   "cell_type": "code",
   "execution_count": 2,
   "metadata": {},
   "outputs": [],
   "source": [
    "# Imports\n",
    "\n",
    "%reload_ext autoreload\n",
    "%autoreload 3\n",
    "\n",
    "import torch\n",
    "from torch import nn\n",
    "import pytorch_lightning as pl\n",
    "\n",
    "from src.cogponder import CogPonderModel\n",
    "from src.cogponder.data import CogPonderDataModule, StroopSRODataset, NBackSRODataset\n"
   ]
  },
  {
   "cell_type": "code",
   "execution_count": 83,
   "metadata": {},
   "outputs": [
    {
     "ename": "IndexError",
     "evalue": "Dimension out of range (expected to be in range of [-1, 0], but got 1)",
     "output_type": "error",
     "traceback": [
      "\u001b[0;31m---------------------------------------------------------------------------\u001b[0m",
      "\u001b[0;31mIndexError\u001b[0m                                Traceback (most recent call last)",
      "Cell \u001b[0;32mIn[83], line 11\u001b[0m\n\u001b[1;32m      6\u001b[0m dataset \u001b[39m=\u001b[39m NBackSRODataset(n_back\u001b[39m=\u001b[39m\u001b[39m2\u001b[39m, response_step_interval\u001b[39m=\u001b[39mstep_duration)\n\u001b[1;32m      8\u001b[0m datamodule \u001b[39m=\u001b[39m CogPonderDataModule(dataset, batch_size\u001b[39m=\u001b[39mbatch_size, num_workers\u001b[39m=\u001b[39m\u001b[39m8\u001b[39m, train_ratio\u001b[39m=\u001b[39m\u001b[39m.5\u001b[39m)\n\u001b[1;32m     10\u001b[0m configs \u001b[39m=\u001b[39m {\n\u001b[0;32m---> 11\u001b[0m     \u001b[39m'\u001b[39m\u001b[39minputs_dim\u001b[39m\u001b[39m'\u001b[39m: dataset[:][\u001b[39m3\u001b[39;49m]\u001b[39m.\u001b[39;49msize(\u001b[39m1\u001b[39;49m),\n\u001b[1;32m     12\u001b[0m     \u001b[39m'\u001b[39m\u001b[39moutputs_dim\u001b[39m\u001b[39m'\u001b[39m: torch\u001b[39m.\u001b[39munique(dataset[:][\u001b[39m4\u001b[39m])\u001b[39m.\u001b[39msize(\u001b[39m0\u001b[39m),\n\u001b[1;32m     13\u001b[0m     \u001b[39m'\u001b[39m\u001b[39membeddings_dim\u001b[39m\u001b[39m'\u001b[39m: \u001b[39m8\u001b[39m,\n\u001b[1;32m     14\u001b[0m     \u001b[39m'\u001b[39m\u001b[39mresponse_loss_beta\u001b[39m\u001b[39m'\u001b[39m: \u001b[39m1.\u001b[39m,\n\u001b[1;32m     15\u001b[0m     \u001b[39m'\u001b[39m\u001b[39mtime_loss_beta\u001b[39m\u001b[39m'\u001b[39m: \u001b[39m10.\u001b[39m,\n\u001b[1;32m     16\u001b[0m     \u001b[39m'\u001b[39m\u001b[39mlearning_rate\u001b[39m\u001b[39m'\u001b[39m: \u001b[39m1e-2\u001b[39m,\n\u001b[1;32m     17\u001b[0m     \u001b[39m'\u001b[39m\u001b[39mmax_response_step\u001b[39m\u001b[39m'\u001b[39m: dataset[:][\u001b[39m5\u001b[39m]\u001b[39m.\u001b[39mmax()\u001b[39m.\u001b[39mint()\u001b[39m.\u001b[39mitem() \u001b[39m+\u001b[39m \u001b[39m10\u001b[39m,\n\u001b[1;32m     18\u001b[0m     \u001b[39m'\u001b[39m\u001b[39mn_contexts\u001b[39m\u001b[39m'\u001b[39m: torch\u001b[39m.\u001b[39munique(dataset[:][\u001b[39m2\u001b[39m])\u001b[39m.\u001b[39msize(\u001b[39m0\u001b[39m),\n\u001b[1;32m     19\u001b[0m     \u001b[39m'\u001b[39m\u001b[39mn_subjects\u001b[39m\u001b[39m'\u001b[39m: torch\u001b[39m.\u001b[39munique(dataset[:][\u001b[39m1\u001b[39m])\u001b[39m.\u001b[39msize(\u001b[39m0\u001b[39m),\n\u001b[1;32m     20\u001b[0m     \u001b[39m'\u001b[39m\u001b[39msubject_embeddings_dim\u001b[39m\u001b[39m'\u001b[39m: \u001b[39m2\u001b[39m,\n\u001b[1;32m     21\u001b[0m     \u001b[39m'\u001b[39m\u001b[39mtask\u001b[39m\u001b[39m'\u001b[39m: \u001b[39m'\u001b[39m\u001b[39mnback\u001b[39m\u001b[39m'\u001b[39m\n\u001b[1;32m     22\u001b[0m }\n\u001b[1;32m     24\u001b[0m model \u001b[39m=\u001b[39m CogPonderModel(\u001b[39m*\u001b[39m\u001b[39m*\u001b[39mconfigs)\n\u001b[1;32m     26\u001b[0m trainer \u001b[39m=\u001b[39m pl\u001b[39m.\u001b[39mTrainer(max_epochs\u001b[39m=\u001b[39m\u001b[39m1000\u001b[39m, accelerator\u001b[39m=\u001b[39m\u001b[39m'\u001b[39m\u001b[39mcpu\u001b[39m\u001b[39m'\u001b[39m, log_every_n_steps\u001b[39m=\u001b[39m\u001b[39m2\u001b[39m)\n",
      "\u001b[0;31mIndexError\u001b[0m: Dimension out of range (expected to be in range of [-1, 0], but got 1)"
     ]
    }
   ],
   "source": [
    "# Experiment\n",
    "\n",
    "step_duration = 10  # in ms\n",
    "batch_size = 512\n",
    "\n",
    "dataset = NBackSRODataset(n_back=2, response_step_interval=step_duration)\n",
    "\n",
    "datamodule = CogPonderDataModule(dataset, batch_size=batch_size, num_workers=8, train_ratio=.5)\n",
    "\n",
    "configs = {\n",
    "    'inputs_dim': 1,\n",
    "    'outputs_dim': torch.unique(dataset[:][4]).size(0),\n",
    "    'embeddings_dim': 8,\n",
    "    'response_loss_beta': 1.,\n",
    "    'time_loss_beta': 10.,\n",
    "    'learning_rate': 1e-2,\n",
    "    'max_response_step': dataset[:][5].max().int().item() + 10,\n",
    "    'n_contexts': torch.unique(dataset[:][2]).size(0),\n",
    "    'n_subjects': torch.unique(dataset[:][1]).size(0),\n",
    "    'subject_embeddings_dim': 2,\n",
    "    'task': 'nback'\n",
    "}\n",
    "\n",
    "model = CogPonderModel(**configs)\n",
    "\n",
    "trainer = pl.Trainer(max_epochs=1000, accelerator='cpu', log_every_n_steps=2)\n",
    "\n",
    "trainer.fit(model, datamodule=datamodule)"
   ]
  }
 ],
 "metadata": {
  "kernelspec": {
   "display_name": "seq2conn",
   "language": "python",
   "name": "python3"
  },
  "language_info": {
   "codemirror_mode": {
    "name": "ipython",
    "version": 3
   },
   "file_extension": ".py",
   "mimetype": "text/x-python",
   "name": "python",
   "nbconvert_exporter": "python",
   "pygments_lexer": "ipython3",
   "version": "3.10.10"
  },
  "orig_nbformat": 4
 },
 "nbformat": 4,
 "nbformat_minor": 2
}
