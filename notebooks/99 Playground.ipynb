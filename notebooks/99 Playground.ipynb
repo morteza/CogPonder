{
 "cells": [
  {
   "cell_type": "code",
   "execution_count": 2,
   "metadata": {},
   "outputs": [],
   "source": [
    "# Imports\n",
    "\n",
    "%reload_ext autoreload\n",
    "%autoreload 3\n",
    "\n",
    "import numpy as np\n",
    "import torch\n",
    "from torch import nn\n",
    "import pytorch_lightning as pl\n",
    "\n",
    "from src.cogponder import CogPonderModel\n",
    "from src.cogponder.data import CogPonderDataModule\n",
    "from src.cogponder.data.stroop_sro import StroopSRODataset\n"
   ]
  },
  {
   "cell_type": "code",
   "execution_count": 104,
   "metadata": {},
   "outputs": [
    {
     "data": {
      "text/plain": [
       "(tensor(95),\n",
       " tensor(520),\n",
       " tensor(0),\n",
       " tensor([3., 2.]),\n",
       " tensor(2),\n",
       " tensor(63),\n",
       " tensor(0))"
      ]
     },
     "execution_count": 104,
     "metadata": {},
     "output_type": "execute_result"
    }
   ],
   "source": [
    "dataset = StroopSRODataset()\n",
    "\n",
    "from torch.utils.data import TensorDataset, Subset\n",
    "_data = TensorDataset(*dataset[:])\n",
    "\n",
    "n_subjects = np.unique(dataset._data['subject_ids'].data).shape[0]\n",
    "\n",
    "from sklearn.model_selection import train_test_split\n",
    "train, test = train_test_split(range(n_subjects), test_size=0.2)\n",
    "\n",
    "# %timeit  train_mask = dataset._data['subject_ids'].isin(train)\n",
    "\n",
    "# %timeit dataset._data.isel(observation=train_mask)\n",
    "_data[50015]"
   ]
  },
  {
   "cell_type": "code",
   "execution_count": null,
   "metadata": {},
   "outputs": [],
   "source": [
    "# Experiment\n",
    "\n",
    "step_duration = 10  # in ms\n",
    "batch_size = 512\n",
    "\n",
    "dataset = StroopSRODataset(response_step_interval=step_duration)\n",
    "\n",
    "datamodule = CogPonderDataModule(dataset, batch_size=batch_size, num_workers=8)\n",
    "\n",
    "configs = {\n",
    "    'inputs_dim': dataset._data['stimuli'].shape[1],\n",
    "    'outputs_dim': np.unique(dataset._data['responses'].data).shape[0],\n",
    "    'embeddings_dim': 10,\n",
    "    'response_loss_beta': 1.,\n",
    "    'time_loss_beta': 10.,\n",
    "    'learning_rate': 1e-2,\n",
    "    'max_response_step': dataset._data['response_steps'].data.max() + 10,\n",
    "    'n_contexts': np.unique(dataset._data['contexts'].data).shape[0],\n",
    "    'n_subjects': np.unique(dataset._data['subject_ids'].data).shape[0],\n",
    "    'subject_embeddings_dim': 2,\n",
    "    'task': 'nback'\n",
    "}\n",
    "\n",
    "model = CogPonderModel(**configs)\n",
    "\n",
    "trainer = pl.Trainer(max_epochs=1000, accelerator='cpu', log_every_n_steps=2)\n",
    "\n",
    "trainer.fit(model, datamodule=datamodule)"
   ]
  }
 ],
 "metadata": {
  "kernelspec": {
   "display_name": "seq2conn",
   "language": "python",
   "name": "python3"
  },
  "language_info": {
   "codemirror_mode": {
    "name": "ipython",
    "version": 3
   },
   "file_extension": ".py",
   "mimetype": "text/x-python",
   "name": "python",
   "nbconvert_exporter": "python",
   "pygments_lexer": "ipython3",
   "version": "3.10.10"
  },
  "orig_nbformat": 4
 },
 "nbformat": 4,
 "nbformat_minor": 2
}
