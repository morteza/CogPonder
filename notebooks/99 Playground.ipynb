{
 "cells": [
  {
   "cell_type": "code",
   "execution_count": 1,
   "metadata": {},
   "outputs": [],
   "source": [
    "%reload_ext autoreload\n",
    "%autoreload 3\n",
    "\n",
    "import torch\n",
    "from torch import nn\n",
    "\n",
    "from src.cogponder import CogPonderModel"
   ]
  },
  {
   "cell_type": "code",
   "execution_count": 6,
   "metadata": {},
   "outputs": [],
   "source": [
    "batch_size = 32\n",
    "n_trials = 64\n",
    "inputs_dim = 10\n",
    "outputs_dim = 2\n",
    "\n",
    "X = torch.rand(10, 10)\n",
    "contexts = torch.randint(0, 1, (10,))  # single context\n",
    "\n",
    "configs = {\n",
    "    'inputs_dim': inputs_dim,\n",
    "    'outputs_dim': outputs_dim,\n",
    "    'embeddings_dim': 10,\n",
    "    'response_loss_beta': 1.,\n",
    "    'time_loss_beta': 10.,\n",
    "    'learning_rate': 1e-2,\n",
    "    'max_response_step': 100,\n",
    "    'n_contexts': 1,\n",
    "    'task': 'nback'\n",
    "}\n",
    "\n",
    "model = CogPonderModel(**configs)\n",
    "\n",
    "y_steps, p_steps, halt_steps = model(X, contexts)\n"
   ]
  }
 ],
 "metadata": {
  "kernelspec": {
   "display_name": "seq2conn",
   "language": "python",
   "name": "python3"
  },
  "language_info": {
   "codemirror_mode": {
    "name": "ipython",
    "version": 3
   },
   "file_extension": ".py",
   "mimetype": "text/x-python",
   "name": "python",
   "nbconvert_exporter": "python",
   "pygments_lexer": "ipython3",
   "version": "3.10.10"
  },
  "orig_nbformat": 4
 },
 "nbformat": 4,
 "nbformat_minor": 2
}
