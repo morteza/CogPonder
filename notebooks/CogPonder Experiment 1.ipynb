{
 "cells": [
  {
   "cell_type": "markdown",
   "metadata": {},
   "source": [
    "# CogPonder: A Model-Agnostic Approach to Response Times in Cognitive Tasks\n",
    "\n",
    "We are interested in a simultaneous model of speed and accuracy of response. Yet, most advanced techniques in machine learning cannot capture such a duality of decision making data.\n",
    "\n",
    "Building on [PonderNet](https://arxiv.org/abs/2107.05407), this notebook demonstrate a model-agnostic architecture that optimizes for the speed and accuracy of human-like responses.\n",
    "\n",
    "- Halting probability ($\\lambda_n$).\n",
    "\n",
    "Under the hood, the architecture iterates over a recurrent model but terminates once it reaches a halting point in time.\n",
    "\n",
    "Unlike sequential sampling and accumulative models, all the parameters of this model *seem* interpretable.\n",
    "\n",
    "## Problem setting\n",
    "\n",
    "### Model\n",
    "We want to learn a supervised model of the function $X \\to y$ as follows:\n",
    "\n",
    "$\n",
    "f: X,h_n \\mapsto \\tilde{y},h_{n+1}, \\lambda_n\n",
    "$\n",
    "\n",
    "where $X$ and $y$ denote stimulus and response symbols, $\\lambda_n$ is the halting probability at step $n$, and $h_{n}$ is the latent state of the model. The learning process continues for a maximum of $N$ steps. For brevity, each step is considered 100ms.\n",
    "\n",
    "### Input\n",
    "\n",
    "We use a mock N-back dataset to evaluate the architecture. For each subject, the mock N-back dataset includes trial-level $X$, $responses$, $matches$, and $response\\_times$.\n",
    "\n",
    "[ ] TODO: $X$ contains recent N trials...\n",
    "\n",
    "\n",
    "### Output\n",
    "\n",
    "The *PonderNet* model produces $y\\_steps$, $p\\_halt$, $halt\\_step$ for each item in the batch.\n",
    "\n",
    "\n",
    "### Criterion\n",
    "\n",
    "L = L_cross_entropy + L_miss + L_hit\n",
    "\n",
    "## Additional resources\n",
    "\n",
    "- [ICOM network model](https://drive.google.com/file/d/16eiUUwKGWfh9pu9VUxzlx046hQNHV0Qe/view?usp=sharinghttps://drive.google.com/file/d/16eiUUwKGWfh9pu9VUxzlx046hQNHV0Qe/view?usp=sharing)\n"
   ]
  },
  {
   "cell_type": "code",
   "execution_count": null,
   "metadata": {},
   "outputs": [],
   "source": [
    "%reload_ext autoreload\n",
    "%autoreload 3\n",
    "\n",
    "# Setup and imports\n",
    "import torch\n",
    "from torch.utils.data import TensorDataset, DataLoader\n",
    "\n",
    "import matplotlib.pyplot as plt\n",
    "import seaborn as sns; sns.set()\n",
    "\n",
    "from cogponder import NBackDataset, PonderNet, ICOM, evaluate"
   ]
  },
  {
   "cell_type": "markdown",
   "metadata": {},
   "source": [
    "## Data"
   ]
  },
  {
   "cell_type": "code",
   "execution_count": null,
   "metadata": {},
   "outputs": [],
   "source": [
    "\n",
    "\n",
    "# generate mock n-back data\n",
    "\n",
    "n_subjects = 2\n",
    "n_trials = 100\n",
    "n_stimuli = 6\n",
    "\n",
    "dataset = NBackDataset(n_subjects, n_trials, n_stimuli)\n",
    "\n",
    "X, responses, matches, response_times = dataset[0]\n",
    "dataset = TensorDataset(X, responses, matches.float(), response_times)"
   ]
  },
  {
   "cell_type": "code",
   "execution_count": 3,
   "metadata": {},
   "outputs": [
    {
     "data": {
      "application/vnd.jupyter.widget-view+json": {
       "model_id": "30ca8ba9866b47488d20c2b526703d0c",
       "version_major": 2,
       "version_minor": 0
      },
      "text/plain": [
       "Epochs:   0%|          | 0/100 [00:00<?, ?it/s]"
      ]
     },
     "metadata": {},
     "output_type": "display_data"
    }
   ],
   "source": [
    "# evaluate the model\n",
    "\n",
    "model = PonderNet(ICOM, n_stimuli+1, n_stimuli, 2, 20)\n",
    "optimizer = torch.optim.Adam(model.parameters(), lr=0.001)\n",
    "\n",
    "evaluate(model, dataset, optimizer, n_epochs=100)"
   ]
  }
 ],
 "metadata": {
  "kernelspec": {
   "display_name": "Python 3.10.5 ('CogPonder')",
   "language": "python",
   "name": "python3"
  },
  "language_info": {
   "codemirror_mode": {
    "name": "ipython",
    "version": 3
   },
   "file_extension": ".py",
   "mimetype": "text/x-python",
   "name": "python",
   "nbconvert_exporter": "python",
   "pygments_lexer": "ipython3",
   "version": "3.10.5"
  },
  "orig_nbformat": 4,
  "vscode": {
   "interpreter": {
    "hash": "fda182afad02a599cbe29528311e73282b27fcc00ceb6a951541e1119641c8c1"
   }
  }
 },
 "nbformat": 4,
 "nbformat_minor": 2
}
